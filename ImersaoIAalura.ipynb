{
  "cells": [
    {
      "cell_type": "markdown",
      "metadata": {
        "id": "view-in-github",
        "colab_type": "text"
      },
      "source": [
        "<a href=\"https://colab.research.google.com/github/srthng/ImersaoAi-Alura/blob/main/ImersaoIAalura.ipynb\" target=\"_parent\"><img src=\"https://colab.research.google.com/assets/colab-badge.svg\" alt=\"Open In Colab\"/></a>"
      ]
    },
    {
      "cell_type": "markdown",
      "metadata": {
        "id": "_Km3joOb-XmX"
      },
      "source": [
        "\n",
        "**Apresentação :**\n",
        "O projeto consiste em um programa em que o Usuário pode ver a sua ficha médica e também conseguir obter respostas de perguntas mais genéricas, com o Google Gemini"
      ]
    },
    {
      "cell_type": "code",
      "execution_count": null,
      "metadata": {
        "id": "UxhWEU2P1ENk"
      },
      "outputs": [],
      "source": [
        "!pip install google-generativeai"
      ]
    },
    {
      "cell_type": "code",
      "execution_count": 15,
      "metadata": {
        "id": "lnRiIFwPOFng"
      },
      "outputs": [],
      "source": [
        "import google.generativeai as genai\n",
        "\n",
        "api_key='Sua API key'\n",
        "genai.configure(api_key=api_key)"
      ]
    },
    {
      "cell_type": "code",
      "execution_count": null,
      "metadata": {
        "id": "3Iz9KB6R13hw"
      },
      "outputs": [],
      "source": [
        "for m in genai.list_models():\n",
        "  if 'generateContent' in m.supported_generation_methods:\n",
        "    print(m.name)\n"
      ]
    },
    {
      "cell_type": "code",
      "execution_count": 16,
      "metadata": {
        "id": "QqRzh8UP3-9n"
      },
      "outputs": [],
      "source": [
        "generation_config = {\n",
        "    \"candidate_count\": 1,\n",
        "    \"temperature\":0.3,\n",
        "}\n"
      ]
    },
    {
      "cell_type": "code",
      "execution_count": 20,
      "metadata": {
        "id": "el-5s-u44fg1"
      },
      "outputs": [],
      "source": [
        "safety_settings = [\n",
        "  {\n",
        "    \"category\": \"HARM_CATEGORY_HARASSMENT\",\n",
        "    \"threshold\": \"BLOCK_LOW_AND_ABOVE\"\n",
        "  },\n",
        "  {\n",
        "    \"category\": \"HARM_CATEGORY_HATE_SPEECH\",\n",
        "    \"threshold\": \"BLOCK_LOW_AND_ABOVE\"\n",
        "  },\n",
        "  {\n",
        "    \"category\": \"HARM_CATEGORY_SEXUALLY_EXPLICIT\",\n",
        "    \"threshold\": \"BLOCK_LOW_AND_ABOVE\"\n",
        "  },\n",
        "  {\n",
        "    \"category\": \"HARM_CATEGORY_DANGEROUS_CONTENT\",\n",
        "    \"threshold\": \"BLOCK_LOW_AND_ABOVE\"\n",
        "  },\n",
        "]"
      ]
    },
    {
      "cell_type": "code",
      "execution_count": 21,
      "metadata": {
        "id": "_xWQcq3g5ER8"
      },
      "outputs": [],
      "source": [
        "model = genai.GenerativeModel(model_name=\"gemini-1.0-pro\", generation_config=generation_config, safety_settings=safety_settings)"
      ]
    },
    {
      "cell_type": "code",
      "execution_count": 65,
      "metadata": {
        "id": "U0Bi3DF25reB"
      },
      "outputs": [],
      "source": [
        "chat = model.start_chat(history=[])"
      ]
    },
    {
      "cell_type": "code",
      "execution_count": null,
      "metadata": {
        "id": "RYhOPhwb6L6W"
      },
      "outputs": [],
      "source": [
        "dadosPacientes = {\n",
        "    \"123.456.789-10\" : {\"nome\": \"Albert Rocha\", \"idade\": 78,\"tipo sanguineo\":\"O-\",\"alergias\":{\"pelo de gato\",\"poeira\"}},\n",
        "    \"109.876.543-21\" : {\"nome\": \"Maria Rodrigues\", \"idade\": 65,\"tipo sanguineo\":\"B+\",\"alergias\":{\"polen\"}},\n",
        "    \"111.222.333-44\" : {\"nome\": \"João Silva\", \"idade\": 72,\"tipo sanguineo\":\"A+\",\"alergias\":{\"frutos do mar\",\"penicilina\"}},\n",
        "    \"222.333.444-55\" : {\"nome\": \"Ana Oliveira\", \"idade\": 61,\"tipo sanguineo\":\"AB-\",\"alergias\":{},},\n",
        "    \"333.444.555-66\" : {\"nome\": \"Manuel Santos\", \"idade\": 88,\"tipo sanguineo\":\"O-\",\"alergias\":{\"soja\"}},\n",
        "    \"444.555.666-77\" : {\"nome\": \"Marta Almeida\", \"idade\": 79,\"tipo sanguineo\":\"B+\",\"alergias\":{\"amendoim\"}},\n",
        "    \"555.666.777-88\" : {\"nome\": \"Joaquim Costa\", \"idade\": 67,\"tipo sanguineo\":\"A-\",\"alergias\":{\"lactose\"}},\n",
        "    \"666.777.888-99\" : {\"nome\": \"Lucia Ramos\", \"idade\": 85,\"tipo sanguineo\":\"AB+\",\"alergias\":{\"nozes\",\"frutos do mar\"}},\n",
        "    \"777.888.999-00\" : {\"nome\": \"Fernanda Pereira\", \"idade\": 63,\"tipo sanguineo\":\"O+\",\"alergias\":{}}\n",
        "}\n",
        "\n",
        "\n",
        "def buscarFichaPorCpf(cpf):\n",
        "    if cpf in dadosPacientes:\n",
        "        return dadosPacientes[cpf]\n",
        "    else:\n",
        "        return None\n",
        "def formatarFicha(ficha):\n",
        "    if ficha is None:\n",
        "        return \"O CPF digitdo não foi encontrado\"\n",
        "    else:\n",
        "        return f\"\"\"Ficha Médica:\n",
        "    Nome: {ficha['nome']}\n",
        "    Idade: {ficha['idade']} anos\n",
        "    Tipo Sanguíneo: {ficha['tipo sanguineo']}\n",
        "    Alergias: {ficha['alergias']}\"\"\"\n",
        "\n",
        "\n",
        "pergunta = \"\"\n",
        "\n",
        "while pergunta != \"3\":\n",
        "  pergunta = input(\"Digite 1 - Caso queira checar a sua ficha médica \\n Digite 2 - Caso queira falar com o nosso Assistente Inteligente  \\n Digite 3 - Para encerrar o programa \\n Sua resposta : \")\n",
        "\n",
        "  if pergunta == \"1\":\n",
        "        cpf = input(\"Digite o seu CPF ou digite 'sair' para encerrar o programa: \")\n",
        "        if cpf.lower() == \"sair\":\n",
        "            break\n",
        "        ficha = buscarFichaPorCpf(cpf)\n",
        "        print(formatarFicha(ficha))\n",
        "\n",
        "  elif pergunta == \"2\":\n",
        "      print(\"Bem-vindo ao Assistente Inteligente(Powered by Google Gemini)! (Digite 'sair' para voltar ao menu principal)\")\n",
        "      prompt = input(\"Digite a sua pergunta : \")\n",
        "      while prompt != \"sair\":\n",
        "        response = chat.send_message(prompt)\n",
        "        print(\"Resposta : \", response.text,)\n",
        "        prompt = input(\"Esperando prompt : \")\n",
        "  elif pergunta != \"3\":\n",
        "      print(\"Opção invalida, Digite 1, 2 ou 3\")"
      ]
    }
  ],
  "metadata": {
    "colab": {
      "provenance": [],
      "authorship_tag": "ABX9TyMYrGq4rpMAJ489o992BXTU",
      "include_colab_link": true
    },
    "kernelspec": {
      "display_name": "Python 3",
      "name": "python3"
    },
    "language_info": {
      "name": "python"
    }
  },
  "nbformat": 4,
  "nbformat_minor": 0
}